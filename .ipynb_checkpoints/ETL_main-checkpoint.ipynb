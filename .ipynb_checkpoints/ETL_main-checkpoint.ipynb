{
 "cells": [
  {
   "cell_type": "code",
   "execution_count": 2,
   "metadata": {},
   "outputs": [],
   "source": [
    "import pandas as pd\n",
    "from sqlalchemy import create_engine\n",
    "import requests\n",
    "import time\n",
    "import os"
   ]
  },
  {
   "cell_type": "code",
   "execution_count": 3,
   "metadata": {},
   "outputs": [],
   "source": [
    "capsules = 'capsules'\n",
    "capsules_serial = 'C112'\n",
    "upcoming = 'upcoming'\n",
    "\n",
    "params_capsules = {\n",
    "    'capsules':capsules,\n",
    "    'capsules_serial':capsules_serial    \n",
    "    \n",
    "}"
   ]
  },
  {
   "cell_type": "code",
   "execution_count": 14,
   "metadata": {},
   "outputs": [],
   "source": [
    "url = f'https://api.spacexdata.com/v3/{capsules}/{capsules_serial}'\n",
    "#example url"
   ]
  },
  {
   "cell_type": "code",
   "execution_count": 15,
   "metadata": {},
   "outputs": [],
   "source": [
    "request = requests.get(url,params_capsules).json()"
   ]
  },
  {
   "cell_type": "code",
   "execution_count": 16,
   "metadata": {},
   "outputs": [
    {
     "data": {
      "text/plain": [
       "{'capsule_serial': 'C112',\n",
       " 'capsule_id': 'dragon1',\n",
       " 'status': 'active',\n",
       " 'original_launch': '2017-02-19T14:39:00.000Z',\n",
       " 'original_launch_unix': 1487515140,\n",
       " 'missions': [{'name': 'CRS-10', 'flight': 36},\n",
       "  {'name': 'CRS-16', 'flight': 72}],\n",
       " 'landings': 2,\n",
       " 'type': 'Dragon 1.1',\n",
       " 'details': None,\n",
       " 'reuse_count': 1}"
      ]
     },
     "execution_count": 16,
     "metadata": {},
     "output_type": "execute_result"
    }
   ],
   "source": [
    "request"
   ]
  },
  {
   "cell_type": "code",
   "execution_count": null,
   "metadata": {},
   "outputs": [],
   "source": []
  },
  {
   "cell_type": "code",
   "execution_count": null,
   "metadata": {},
   "outputs": [],
   "source": []
  }
 ],
 "metadata": {
  "kernelspec": {
   "display_name": "Python 3",
   "language": "python",
   "name": "python3"
  },
  "language_info": {
   "codemirror_mode": {
    "name": "ipython",
    "version": 3
   },
   "file_extension": ".py",
   "mimetype": "text/x-python",
   "name": "python",
   "nbconvert_exporter": "python",
   "pygments_lexer": "ipython3",
   "version": "3.7.3"
  }
 },
 "nbformat": 4,
 "nbformat_minor": 2
}
