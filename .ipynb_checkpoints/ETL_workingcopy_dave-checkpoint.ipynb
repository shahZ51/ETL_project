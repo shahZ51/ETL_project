{
 "cells": [
  {
   "cell_type": "code",
   "execution_count": 23,
   "metadata": {},
   "outputs": [],
   "source": [
    "import pandas as pd\n",
    "from sqlalchemy import create_engine\n",
    "import requests\n",
    "import time\n",
    "import os\n",
    "from pandas.io.json import json_normalize"
   ]
  },
  {
   "cell_type": "code",
   "execution_count": 3,
   "metadata": {},
   "outputs": [
    {
     "data": {
      "text/html": [
       "<div>\n",
       "<style scoped>\n",
       "    .dataframe tbody tr th:only-of-type {\n",
       "        vertical-align: middle;\n",
       "    }\n",
       "\n",
       "    .dataframe tbody tr th {\n",
       "        vertical-align: top;\n",
       "    }\n",
       "\n",
       "    .dataframe thead th {\n",
       "        text-align: right;\n",
       "    }\n",
       "</style>\n",
       "<table border=\"1\" class=\"dataframe\">\n",
       "  <thead>\n",
       "    <tr style=\"text-align: right;\">\n",
       "      <th></th>\n",
       "      <th>collection</th>\n",
       "    </tr>\n",
       "  </thead>\n",
       "  <tbody>\n",
       "    <tr>\n",
       "      <th>0</th>\n",
       "      <td>capsules</td>\n",
       "    </tr>\n",
       "    <tr>\n",
       "      <th>1</th>\n",
       "      <td>cores</td>\n",
       "    </tr>\n",
       "    <tr>\n",
       "      <th>2</th>\n",
       "      <td>dragons</td>\n",
       "    </tr>\n",
       "    <tr>\n",
       "      <th>3</th>\n",
       "      <td>history</td>\n",
       "    </tr>\n",
       "    <tr>\n",
       "      <th>4</th>\n",
       "      <td>info</td>\n",
       "    </tr>\n",
       "    <tr>\n",
       "      <th>5</th>\n",
       "      <td>landpads</td>\n",
       "    </tr>\n",
       "    <tr>\n",
       "      <th>6</th>\n",
       "      <td>launches</td>\n",
       "    </tr>\n",
       "    <tr>\n",
       "      <th>7</th>\n",
       "      <td>launchpads</td>\n",
       "    </tr>\n",
       "    <tr>\n",
       "      <th>8</th>\n",
       "      <td>missions</td>\n",
       "    </tr>\n",
       "    <tr>\n",
       "      <th>9</th>\n",
       "      <td>payloads</td>\n",
       "    </tr>\n",
       "    <tr>\n",
       "      <th>10</th>\n",
       "      <td>rockets</td>\n",
       "    </tr>\n",
       "    <tr>\n",
       "      <th>11</th>\n",
       "      <td>roadster</td>\n",
       "    </tr>\n",
       "    <tr>\n",
       "      <th>12</th>\n",
       "      <td>ships</td>\n",
       "    </tr>\n",
       "  </tbody>\n",
       "</table>\n",
       "</div>"
      ],
      "text/plain": [
       "    collection\n",
       "0     capsules\n",
       "1        cores\n",
       "2      dragons\n",
       "3      history\n",
       "4         info\n",
       "5     landpads\n",
       "6     launches\n",
       "7   launchpads\n",
       "8     missions\n",
       "9     payloads\n",
       "10     rockets\n",
       "11    roadster\n",
       "12       ships"
      ]
     },
     "execution_count": 3,
     "metadata": {},
     "output_type": "execute_result"
    }
   ],
   "source": [
    "#START CODE HERE#\n",
    "#EXTRACT#\n",
    "\n",
    "x = ['capsules',\n",
    "     'cores',\n",
    "     'dragons',\n",
    "     'history',\n",
    "     'info',\n",
    "     'landpads',\n",
    "     'launches',\n",
    "     'launchpads',\n",
    "     'missions',\n",
    "     'payloads',\n",
    "     'rockets',\n",
    "     'roadster',\n",
    "     'ships']\n",
    "\n",
    "collection_df = pd.DataFrame(x,columns=['collection'])\n",
    "   \n",
    "# params1 = {\n",
    "#     'collection': x \n",
    "    \n",
    "# }\n",
    "# response_base = requests.get(base_url,params1).json()\n",
    "# response_base\n",
    "collection_df"
   ]
  },
  {
   "cell_type": "code",
   "execution_count": 4,
   "metadata": {},
   "outputs": [
    {
     "data": {
      "text/plain": [
       "{'capsule_serial': 'C101',\n",
       " 'capsule_id': 'dragon1',\n",
       " 'status': 'retired',\n",
       " 'original_launch': '2010-12-08T15:43:00.000Z',\n",
       " 'original_launch_unix': 1291822980,\n",
       " 'missions': [{'name': 'COTS 1', 'flight': 7}],\n",
       " 'landings': 0,\n",
       " 'type': 'Dragon 1.0',\n",
       " 'details': 'Reentered after three weeks in orbit',\n",
       " 'reuse_count': 0}"
      ]
     },
     "execution_count": 4,
     "metadata": {},
     "output_type": "execute_result"
    }
   ],
   "source": [
    "url = 'https://api.spacexdata.com/v3/capsules'\n",
    "response1 = requests.get(url).json()\n",
    "response1[0]\n",
    "\n",
    "# response1[0]['capsule_serial']\n",
    "# response1[0]['capsule_id']\n",
    "# response1[0]['status']\n",
    "# response1[0]['original_launch']\n",
    "# response1[0]['original_launch_unix']\n",
    "# response1[0]['missions']\n",
    "# response1[0]['landings']\n",
    "# response1[0]['type']\n",
    "# response1[0]['details']\n",
    "# response1[0]['reuse_count']"
   ]
  },
  {
   "cell_type": "code",
   "execution_count": 6,
   "metadata": {},
   "outputs": [],
   "source": [
    "spacex_all = []\n",
    "for x in collection_df['collection']:\n",
    "    url = 'https://api.spacexdata.com/v3/'+x\n",
    "    response = requests.get(url).json()\n",
    "    spacex_all.append(response)\n",
    "#     lists.append(response)\n",
    "#     response = requests.get(f'{url+row}').json()\n",
    "\n"
   ]
  },
  {
   "cell_type": "code",
   "execution_count": 7,
   "metadata": {},
   "outputs": [],
   "source": [
    "\n",
    "collection_names = [x for x in collection_df['collection'] + '_df']\n",
    "\n",
    "# for i in range(len(spacex_all)):\n",
    "#     collection_names[i] = pd.DataFrame()\n",
    "      \n",
    "capsules_df = pd.DataFrame(spacex_all[0])\n",
    "cores_df=pd.DataFrame(spacex_all[1])\n",
    "dragons_df=pd.DataFrame(spacex_all[2])\n",
    "history_df=pd.DataFrame(spacex_all[3])\n",
    "Info_df=pd.DataFrame(spacex_all[4])\n",
    "landpads_df=pd.DataFrame(spacex_all[5])\n",
    "launches_df=pd.DataFrame(spacex_all[6])\n",
    "launchpads_df=pd.DataFrame(spacex_all[7])\n",
    "missions_df=pd.DataFrame(spacex_all[8])\n",
    "payloads_df=pd.DataFrame(spacex_all[9])\n",
    "rockets_df=pd.DataFrame(spacex_all[10])\n",
    "roadster_df=pd.DataFrame(spacex_all[11])\n",
    "ships_df=pd.DataFrame(spacex_all[12])"
   ]
  },
  {
   "cell_type": "code",
   "execution_count": null,
   "metadata": {},
   "outputs": [],
   "source": []
  },
  {
   "cell_type": "code",
   "execution_count": 70,
   "metadata": {},
   "outputs": [
    {
     "data": {
      "text/plain": [
       "Index(['capsule_serial', 'capsule_id', 'status', 'original_launch',\n",
       "       'original_launch_unix', 'missions', 'landings', 'type', 'details',\n",
       "       'reuse_count'],\n",
       "      dtype='object')"
      ]
     },
     "execution_count": 70,
     "metadata": {},
     "output_type": "execute_result"
    }
   ],
   "source": [
    "capsules_df.columns"
   ]
  },
  {
   "cell_type": "code",
   "execution_count": 10,
   "metadata": {},
   "outputs": [],
   "source": [
    "def convertdate(x):\n",
    "    x = pd.to_datetime(x,format='%Y-%m-%d')\n",
    "    return x\n",
    "\n",
    "def convertunix(x):\n",
    "    x = pd.to_datetime(x,unit='s')\n",
    "    return x"
   ]
  },
  {
   "cell_type": "code",
   "execution_count": 74,
   "metadata": {},
   "outputs": [
    {
     "data": {
      "text/html": [
       "<div>\n",
       "<style scoped>\n",
       "    .dataframe tbody tr th:only-of-type {\n",
       "        vertical-align: middle;\n",
       "    }\n",
       "\n",
       "    .dataframe tbody tr th {\n",
       "        vertical-align: top;\n",
       "    }\n",
       "\n",
       "    .dataframe thead th {\n",
       "        text-align: right;\n",
       "    }\n",
       "</style>\n",
       "<table border=\"1\" class=\"dataframe\">\n",
       "  <thead>\n",
       "    <tr style=\"text-align: right;\">\n",
       "      <th></th>\n",
       "      <th>capsule_id</th>\n",
       "      <th>capsule_serial</th>\n",
       "      <th>details</th>\n",
       "      <th>original_launch</th>\n",
       "      <th>landings</th>\n",
       "      <th>missions</th>\n",
       "      <th>type</th>\n",
       "      <th>reuse_count</th>\n",
       "      <th>status</th>\n",
       "    </tr>\n",
       "  </thead>\n",
       "  <tbody>\n",
       "    <tr>\n",
       "      <th>0</th>\n",
       "      <td>dragon1</td>\n",
       "      <td>C101</td>\n",
       "      <td>Reentered after three weeks in orbit</td>\n",
       "      <td>2010-12-08 15:43:00+00:00</td>\n",
       "      <td>0</td>\n",
       "      <td>[{'name': 'COTS 1', 'flight': 7}]</td>\n",
       "      <td>Dragon 1.0</td>\n",
       "      <td>0</td>\n",
       "      <td>retired</td>\n",
       "    </tr>\n",
       "    <tr>\n",
       "      <th>1</th>\n",
       "      <td>dragon1</td>\n",
       "      <td>C102</td>\n",
       "      <td>First Dragon spacecraft</td>\n",
       "      <td>2012-05-02 07:44:00+00:00</td>\n",
       "      <td>1</td>\n",
       "      <td>[{'name': 'COTS 2', 'flight': 8}]</td>\n",
       "      <td>Dragon 1.0</td>\n",
       "      <td>0</td>\n",
       "      <td>retired</td>\n",
       "    </tr>\n",
       "    <tr>\n",
       "      <th>2</th>\n",
       "      <td>dragon1</td>\n",
       "      <td>C103</td>\n",
       "      <td>First of twenty missions flown under the CRS1 ...</td>\n",
       "      <td>2012-10-08 00:35:00+00:00</td>\n",
       "      <td>1</td>\n",
       "      <td>[{'name': 'CRS-1', 'flight': 9}]</td>\n",
       "      <td>Dragon 1.0</td>\n",
       "      <td>0</td>\n",
       "      <td>unknown</td>\n",
       "    </tr>\n",
       "    <tr>\n",
       "      <th>3</th>\n",
       "      <td>dragon1</td>\n",
       "      <td>C104</td>\n",
       "      <td>None</td>\n",
       "      <td>2013-03-01 19:10:00+00:00</td>\n",
       "      <td>1</td>\n",
       "      <td>[{'name': 'CRS-2', 'flight': 10}]</td>\n",
       "      <td>Dragon 1.0</td>\n",
       "      <td>0</td>\n",
       "      <td>unknown</td>\n",
       "    </tr>\n",
       "    <tr>\n",
       "      <th>4</th>\n",
       "      <td>dragon1</td>\n",
       "      <td>C105</td>\n",
       "      <td>First Dragon v1.1 capsule</td>\n",
       "      <td>2014-04-18 19:25:00+00:00</td>\n",
       "      <td>1</td>\n",
       "      <td>[{'name': 'CRS-3', 'flight': 14}]</td>\n",
       "      <td>Dragon 1.1</td>\n",
       "      <td>0</td>\n",
       "      <td>unknown</td>\n",
       "    </tr>\n",
       "  </tbody>\n",
       "</table>\n",
       "</div>"
      ],
      "text/plain": [
       "  capsule_id capsule_serial  \\\n",
       "0    dragon1           C101   \n",
       "1    dragon1           C102   \n",
       "2    dragon1           C103   \n",
       "3    dragon1           C104   \n",
       "4    dragon1           C105   \n",
       "\n",
       "                                             details  \\\n",
       "0               Reentered after three weeks in orbit   \n",
       "1                            First Dragon spacecraft   \n",
       "2  First of twenty missions flown under the CRS1 ...   \n",
       "3                                               None   \n",
       "4                          First Dragon v1.1 capsule   \n",
       "\n",
       "            original_launch  landings                           missions  \\\n",
       "0 2010-12-08 15:43:00+00:00         0  [{'name': 'COTS 1', 'flight': 7}]   \n",
       "1 2012-05-02 07:44:00+00:00         1  [{'name': 'COTS 2', 'flight': 8}]   \n",
       "2 2012-10-08 00:35:00+00:00         1   [{'name': 'CRS-1', 'flight': 9}]   \n",
       "3 2013-03-01 19:10:00+00:00         1  [{'name': 'CRS-2', 'flight': 10}]   \n",
       "4 2014-04-18 19:25:00+00:00         1  [{'name': 'CRS-3', 'flight': 14}]   \n",
       "\n",
       "         type  reuse_count   status  \n",
       "0  Dragon 1.0            0  retired  \n",
       "1  Dragon 1.0            0  retired  \n",
       "2  Dragon 1.0            0  unknown  \n",
       "3  Dragon 1.0            0  unknown  \n",
       "4  Dragon 1.1            0  unknown  "
      ]
     },
     "execution_count": 74,
     "metadata": {},
     "output_type": "execute_result"
    }
   ],
   "source": [
    "capsules_df = capsules_df[['capsule_id','capsule_serial','details','original_launch','landings','missions','type','reuse_count','status']].copy()\n",
    "capsules_df['original_launch'] = capsules_df['original_launch'].apply(convertdate)\n",
    "capsules_df.head()\n",
    "\n"
   ]
  },
  {
   "cell_type": "code",
   "execution_count": 122,
   "metadata": {},
   "outputs": [
    {
     "data": {
      "text/html": [
       "<div>\n",
       "<style scoped>\n",
       "    .dataframe tbody tr th:only-of-type {\n",
       "        vertical-align: middle;\n",
       "    }\n",
       "\n",
       "    .dataframe tbody tr th {\n",
       "        vertical-align: top;\n",
       "    }\n",
       "\n",
       "    .dataframe thead th {\n",
       "        text-align: right;\n",
       "    }\n",
       "</style>\n",
       "<table border=\"1\" class=\"dataframe\">\n",
       "  <thead>\n",
       "    <tr style=\"text-align: right;\">\n",
       "      <th></th>\n",
       "      <th>capsule_serial</th>\n",
       "      <th>missions</th>\n",
       "    </tr>\n",
       "  </thead>\n",
       "  <tbody>\n",
       "    <tr>\n",
       "      <th>0</th>\n",
       "      <td>C101</td>\n",
       "      <td>[{'name': 'COTS 1', 'flight': 7}]</td>\n",
       "    </tr>\n",
       "    <tr>\n",
       "      <th>1</th>\n",
       "      <td>C102</td>\n",
       "      <td>[{'name': 'COTS 2', 'flight': 8}]</td>\n",
       "    </tr>\n",
       "    <tr>\n",
       "      <th>2</th>\n",
       "      <td>C103</td>\n",
       "      <td>[{'name': 'CRS-1', 'flight': 9}]</td>\n",
       "    </tr>\n",
       "    <tr>\n",
       "      <th>3</th>\n",
       "      <td>C104</td>\n",
       "      <td>[{'name': 'CRS-2', 'flight': 10}]</td>\n",
       "    </tr>\n",
       "    <tr>\n",
       "      <th>4</th>\n",
       "      <td>C105</td>\n",
       "      <td>[{'name': 'CRS-3', 'flight': 14}]</td>\n",
       "    </tr>\n",
       "    <tr>\n",
       "      <th>5</th>\n",
       "      <td>C106</td>\n",
       "      <td>[{'name': 'CRS-4', 'flight': 18}, {'name': 'CR...</td>\n",
       "    </tr>\n",
       "    <tr>\n",
       "      <th>6</th>\n",
       "      <td>C107</td>\n",
       "      <td>[{'name': 'CRS-5', 'flight': 19}]</td>\n",
       "    </tr>\n",
       "    <tr>\n",
       "      <th>7</th>\n",
       "      <td>C108</td>\n",
       "      <td>[{'name': 'CRS-6', 'flight': 22}, {'name': 'CR...</td>\n",
       "    </tr>\n",
       "    <tr>\n",
       "      <th>8</th>\n",
       "      <td>C109</td>\n",
       "      <td>[{'name': 'CRS-7', 'flight': 24}]</td>\n",
       "    </tr>\n",
       "    <tr>\n",
       "      <th>9</th>\n",
       "      <td>C110</td>\n",
       "      <td>[{'name': 'CRS-8', 'flight': 28}, {'name': 'CR...</td>\n",
       "    </tr>\n",
       "    <tr>\n",
       "      <th>10</th>\n",
       "      <td>C111</td>\n",
       "      <td>[{'name': 'CRS-9', 'flight': 32}, {'name': 'CR...</td>\n",
       "    </tr>\n",
       "    <tr>\n",
       "      <th>11</th>\n",
       "      <td>C112</td>\n",
       "      <td>[{'name': 'CRS-10', 'flight': 36}, {'name': 'C...</td>\n",
       "    </tr>\n",
       "    <tr>\n",
       "      <th>12</th>\n",
       "      <td>C113</td>\n",
       "      <td>[{'name': 'CRS-12', 'flight': 45}, {'name': 'C...</td>\n",
       "    </tr>\n",
       "    <tr>\n",
       "      <th>13</th>\n",
       "      <td>C201</td>\n",
       "      <td>[{'name': 'CCtCap Demo Mission 1', 'flight': 76}]</td>\n",
       "    </tr>\n",
       "    <tr>\n",
       "      <th>14</th>\n",
       "      <td>C202</td>\n",
       "      <td>[]</td>\n",
       "    </tr>\n",
       "    <tr>\n",
       "      <th>15</th>\n",
       "      <td>C203</td>\n",
       "      <td>[]</td>\n",
       "    </tr>\n",
       "    <tr>\n",
       "      <th>16</th>\n",
       "      <td>C204</td>\n",
       "      <td>[]</td>\n",
       "    </tr>\n",
       "    <tr>\n",
       "      <th>17</th>\n",
       "      <td>C205</td>\n",
       "      <td>[]</td>\n",
       "    </tr>\n",
       "  </tbody>\n",
       "</table>\n",
       "</div>"
      ],
      "text/plain": [
       "   capsule_serial                                           missions\n",
       "0            C101                  [{'name': 'COTS 1', 'flight': 7}]\n",
       "1            C102                  [{'name': 'COTS 2', 'flight': 8}]\n",
       "2            C103                   [{'name': 'CRS-1', 'flight': 9}]\n",
       "3            C104                  [{'name': 'CRS-2', 'flight': 10}]\n",
       "4            C105                  [{'name': 'CRS-3', 'flight': 14}]\n",
       "5            C106  [{'name': 'CRS-4', 'flight': 18}, {'name': 'CR...\n",
       "6            C107                  [{'name': 'CRS-5', 'flight': 19}]\n",
       "7            C108  [{'name': 'CRS-6', 'flight': 22}, {'name': 'CR...\n",
       "8            C109                  [{'name': 'CRS-7', 'flight': 24}]\n",
       "9            C110  [{'name': 'CRS-8', 'flight': 28}, {'name': 'CR...\n",
       "10           C111  [{'name': 'CRS-9', 'flight': 32}, {'name': 'CR...\n",
       "11           C112  [{'name': 'CRS-10', 'flight': 36}, {'name': 'C...\n",
       "12           C113  [{'name': 'CRS-12', 'flight': 45}, {'name': 'C...\n",
       "13           C201  [{'name': 'CCtCap Demo Mission 1', 'flight': 76}]\n",
       "14           C202                                                 []\n",
       "15           C203                                                 []\n",
       "16           C204                                                 []\n",
       "17           C205                                                 []"
      ]
     },
     "execution_count": 122,
     "metadata": {},
     "output_type": "execute_result"
    }
   ],
   "source": [
    "capsules_missions_df = capsules_df[['capsule_serial','missions']].copy()\n",
    "\n",
    "# capsules_missions_df = pd.concat([capsules_missions_df.drop('missions', axis=1), capsules_missions_df['missions'].apply(pd.to_dict), axis=1)\n",
    "capsules_missions_df"
   ]
  },
  {
   "cell_type": "code",
   "execution_count": 12,
   "metadata": {},
   "outputs": [],
   "source": [
    "# capsules_df['original_launch'] = pd.to_datetime(capsules_df['original_launch'],format='%Y-%m-%d')\n",
    "# capsules_df['original_launch'] = convertdate(capsules_df['original_launch'])\n",
    "# capsules_df['original_launch'] = capsules_df['original_launch'].apply(convertdate)\n",
    "#three different ways to convert column original launch to datetime format.\n",
    "#personally like the function convertdate as we can apply this to every dataframe that require format.\n"
   ]
  },
  {
   "cell_type": "code",
   "execution_count": 32,
   "metadata": {},
   "outputs": [],
   "source": [
    "# capsules_df = capsules_df.drop(['missions'],axis=1)"
   ]
  },
  {
   "cell_type": "code",
   "execution_count": 11,
   "metadata": {},
   "outputs": [],
   "source": [
    "# Using lambda function to separate the dictionary in missions columns and adding as new columns\n",
    "# capsules_df['mission_name'] = capsules_df['missions'][0:14].apply(lambda x: x[0]['name'])\n",
    "# capsules_df['mission_flight'] = capsules_df['missions'][0:14].apply(lambda x: x[0]['flight'])"
   ]
  },
  {
   "cell_type": "code",
   "execution_count": 106,
   "metadata": {},
   "outputs": [
    {
     "data": {
      "text/html": [
       "<div>\n",
       "<style scoped>\n",
       "    .dataframe tbody tr th:only-of-type {\n",
       "        vertical-align: middle;\n",
       "    }\n",
       "\n",
       "    .dataframe tbody tr th {\n",
       "        vertical-align: top;\n",
       "    }\n",
       "\n",
       "    .dataframe thead th {\n",
       "        text-align: right;\n",
       "    }\n",
       "</style>\n",
       "<table border=\"1\" class=\"dataframe\">\n",
       "  <thead>\n",
       "    <tr style=\"text-align: right;\">\n",
       "      <th></th>\n",
       "      <th>capsule_serial</th>\n",
       "      <th>missions</th>\n",
       "    </tr>\n",
       "  </thead>\n",
       "  <tbody>\n",
       "    <tr>\n",
       "      <th>0</th>\n",
       "      <td>C101</td>\n",
       "      <td>[{'name': 'COTS 1', 'flight': 7}]</td>\n",
       "    </tr>\n",
       "    <tr>\n",
       "      <th>1</th>\n",
       "      <td>C102</td>\n",
       "      <td>[{'name': 'COTS 2', 'flight': 8}]</td>\n",
       "    </tr>\n",
       "    <tr>\n",
       "      <th>2</th>\n",
       "      <td>C103</td>\n",
       "      <td>[{'name': 'CRS-1', 'flight': 9}]</td>\n",
       "    </tr>\n",
       "    <tr>\n",
       "      <th>3</th>\n",
       "      <td>C104</td>\n",
       "      <td>[{'name': 'CRS-2', 'flight': 10}]</td>\n",
       "    </tr>\n",
       "    <tr>\n",
       "      <th>4</th>\n",
       "      <td>C105</td>\n",
       "      <td>[{'name': 'CRS-3', 'flight': 14}]</td>\n",
       "    </tr>\n",
       "  </tbody>\n",
       "</table>\n",
       "</div>"
      ],
      "text/plain": [
       "  capsule_serial                           missions\n",
       "0           C101  [{'name': 'COTS 1', 'flight': 7}]\n",
       "1           C102  [{'name': 'COTS 2', 'flight': 8}]\n",
       "2           C103   [{'name': 'CRS-1', 'flight': 9}]\n",
       "3           C104  [{'name': 'CRS-2', 'flight': 10}]\n",
       "4           C105  [{'name': 'CRS-3', 'flight': 14}]"
      ]
     },
     "execution_count": 106,
     "metadata": {},
     "output_type": "execute_result"
    }
   ],
   "source": [
    "capsules_missions_df.head()\n",
    "\n",
    "# capsules_df = pd.concat([capsules_df['missions'].apply(pd.Series)], axis=1)\n",
    "# capsules_df = pd.concat([capsules_df.drop('missions', axis=1), capsules_df['missions'].apply(pd.Series)], axis=1)"
   ]
  },
  {
   "cell_type": "code",
   "execution_count": 107,
   "metadata": {},
   "outputs": [],
   "source": [
    "for x in capsules_missions_df['missions'][0]:\n",
    "    capsules_missions_df = json_normalize(x)\n"
   ]
  },
  {
   "cell_type": "code",
   "execution_count": 108,
   "metadata": {},
   "outputs": [
    {
     "data": {
      "text/html": [
       "<div>\n",
       "<style scoped>\n",
       "    .dataframe tbody tr th:only-of-type {\n",
       "        vertical-align: middle;\n",
       "    }\n",
       "\n",
       "    .dataframe tbody tr th {\n",
       "        vertical-align: top;\n",
       "    }\n",
       "\n",
       "    .dataframe thead th {\n",
       "        text-align: right;\n",
       "    }\n",
       "</style>\n",
       "<table border=\"1\" class=\"dataframe\">\n",
       "  <thead>\n",
       "    <tr style=\"text-align: right;\">\n",
       "      <th></th>\n",
       "      <th>name</th>\n",
       "      <th>flight</th>\n",
       "    </tr>\n",
       "  </thead>\n",
       "  <tbody>\n",
       "    <tr>\n",
       "      <th>0</th>\n",
       "      <td>COTS 1</td>\n",
       "      <td>7</td>\n",
       "    </tr>\n",
       "  </tbody>\n",
       "</table>\n",
       "</div>"
      ],
      "text/plain": [
       "     name  flight\n",
       "0  COTS 1       7"
      ]
     },
     "execution_count": 108,
     "metadata": {},
     "output_type": "execute_result"
    }
   ],
   "source": [
    "capsules_missions_df"
   ]
  },
  {
   "cell_type": "code",
   "execution_count": 65,
   "metadata": {},
   "outputs": [],
   "source": [
    "# capsules_df = json_normalize(capsules_df['0'])"
   ]
  },
  {
   "cell_type": "code",
   "execution_count": null,
   "metadata": {},
   "outputs": [],
   "source": []
  },
  {
   "cell_type": "code",
   "execution_count": 13,
   "metadata": {},
   "outputs": [],
   "source": [
    "# rearranging the columns and exporting to csv\n",
    "capsules_df = capsules_df[['capsule_id','capsule_serial','details','original_launch','landings','mission_name','mission_flight','type','reuse_count','status']].copy()\n",
    "\n",
    "# capsules_df.to_csv('capsules.csv')"
   ]
  },
  {
   "cell_type": "code",
   "execution_count": 66,
   "metadata": {},
   "outputs": [],
   "source": [
    "\n",
    "# pd.concat([df.drop(['b'], axis=1), df['b'].apply(pd.Series)], axis=1)"
   ]
  },
  {
   "cell_type": "code",
   "execution_count": 16,
   "metadata": {},
   "outputs": [],
   "source": [
    "connection_string = 'postgres:root123@localhost:5432/mission_spacex'\n",
    "engine = create_engine(f'postgresql://{connection_string}')"
   ]
  },
  {
   "cell_type": "code",
   "execution_count": 17,
   "metadata": {},
   "outputs": [
    {
     "data": {
      "text/plain": [
       "['capsules',\n",
       " 'capsule_mission',\n",
       " 'cores',\n",
       " 'cores_mission',\n",
       " 'dragons',\n",
       " 'thrusters',\n",
       " 'history']"
      ]
     },
     "execution_count": 17,
     "metadata": {},
     "output_type": "execute_result"
    }
   ],
   "source": [
    "engine.table_names()"
   ]
  },
  {
   "cell_type": "code",
   "execution_count": 36,
   "metadata": {},
   "outputs": [],
   "source": [
    "capsules_df.to_sql(name='capsules', con=engine,if_exists='append', index=False)\n"
   ]
  },
  {
   "cell_type": "code",
   "execution_count": null,
   "metadata": {},
   "outputs": [],
   "source": []
  }
 ],
 "metadata": {
  "kernelspec": {
   "display_name": "Python 3",
   "language": "python",
   "name": "python3"
  },
  "language_info": {
   "codemirror_mode": {
    "name": "ipython",
    "version": 3
   },
   "file_extension": ".py",
   "mimetype": "text/x-python",
   "name": "python",
   "nbconvert_exporter": "python",
   "pygments_lexer": "ipython3",
   "version": "3.7.3"
  }
 },
 "nbformat": 4,
 "nbformat_minor": 2
}
